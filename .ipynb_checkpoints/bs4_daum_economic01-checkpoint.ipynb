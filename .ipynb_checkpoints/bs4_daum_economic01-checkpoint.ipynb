{
 "cells": [
  {
   "cell_type": "code",
   "execution_count": 23,
   "id": "c32dd8ec",
   "metadata": {},
   "outputs": [],
   "source": [
    "import requests"
   ]
  },
  {
   "cell_type": "markdown",
   "id": "3c9e2240",
   "metadata": {},
   "source": [
    "http://media.daum.net/economic/"
   ]
  },
  {
   "cell_type": "code",
   "execution_count": 24,
   "id": "89ab52d5",
   "metadata": {},
   "outputs": [],
   "source": [
    "# path = 'https://www.genie.co.kr/chart/top200'\n",
    "path = 'http://media.daum.net/economic/'\n",
    "req = requests.get(path)"
   ]
  },
  {
   "cell_type": "code",
   "execution_count": 25,
   "id": "e5546439",
   "metadata": {},
   "outputs": [
    {
     "data": {
      "text/plain": [
       "200"
      ]
     },
     "execution_count": 25,
     "metadata": {},
     "output_type": "execute_result"
    }
   ],
   "source": [
    "req.status_code"
   ]
  },
  {
   "cell_type": "code",
   "execution_count": 28,
   "id": "a9ded8ca",
   "metadata": {},
   "outputs": [],
   "source": [
    "from bs4 import BeautifulSoup"
   ]
  },
  {
   "cell_type": "code",
   "execution_count": 31,
   "id": "d08508ad",
   "metadata": {},
   "outputs": [],
   "source": [
    "soup = BeautifulSoup(req.content, 'html.parser')"
   ]
  },
  {
   "cell_type": "code",
   "execution_count": 32,
   "id": "52cc6baf",
   "metadata": {},
   "outputs": [
    {
     "data": {
      "text/plain": [
       "bs4.BeautifulSoup"
      ]
     },
     "execution_count": 32,
     "metadata": {},
     "output_type": "execute_result"
    }
   ],
   "source": [
    "type(soup)"
   ]
  },
  {
   "cell_type": "code",
   "execution_count": 34,
   "id": "6e9aa3ba",
   "metadata": {},
   "outputs": [
    {
     "data": {
      "text/plain": [
       "bs4.element.ResultSet"
      ]
     },
     "execution_count": 34,
     "metadata": {},
     "output_type": "execute_result"
    }
   ],
   "source": [
    "result = soup.select('div > strong.tit_thumb > a[href].link_txt')\n",
    "type(result)"
   ]
  },
  {
   "cell_type": "code",
   "execution_count": 35,
   "id": "be66e52a",
   "metadata": {},
   "outputs": [
    {
     "data": {
      "text/plain": [
       "<a class=\"link_txt\" data-tiara-custom=\"contentUniqueKey=hamny-20210624161729105\" data-tiara-id=\"20210624161729105\" data-tiara-layer=\"article_main\" data-tiara-ordnum=\"1\" data-tiara-type=\"harmony\" href=\"https://news.v.daum.net/v/20210624161729105\">재산권 침해 논란에 국토부·서울시 \"조합원 지위 제한, 소급·일괄적용 아냐\"</a>"
      ]
     },
     "execution_count": 35,
     "metadata": {},
     "output_type": "execute_result"
    }
   ],
   "source": [
    "result[0]"
   ]
  },
  {
   "cell_type": "code",
   "execution_count": 37,
   "id": "ec4d1517",
   "metadata": {},
   "outputs": [],
   "source": [
    "tag = result[0]"
   ]
  },
  {
   "cell_type": "code",
   "execution_count": 40,
   "id": "edd64840",
   "metadata": {},
   "outputs": [
    {
     "data": {
      "text/plain": [
       "'재산권 침해 논란에 국토부·서울시 \"조합원 지위 제한, 소급·일괄적용 아냐\"'"
      ]
     },
     "execution_count": 40,
     "metadata": {},
     "output_type": "execute_result"
    }
   ],
   "source": [
    "tag.text"
   ]
  },
  {
   "cell_type": "code",
   "execution_count": 39,
   "id": "6df9dfd9",
   "metadata": {},
   "outputs": [
    {
     "data": {
      "text/plain": [
       "'https://news.v.daum.net/v/20210624161729105'"
      ]
     },
     "execution_count": 39,
     "metadata": {},
     "output_type": "execute_result"
    }
   ],
   "source": [
    "tag['href']"
   ]
  },
  {
   "cell_type": "code",
   "execution_count": 42,
   "id": "4e2b03ef",
   "metadata": {},
   "outputs": [
    {
     "name": "stdout",
     "output_type": "stream",
     "text": [
      "재산권 침해 논란에 국토부·서울시 \"조합원 지위 제한, 소급·일괄적용 아냐\" https://news.v.daum.net/v/20210624161729105\n",
      "삼성·현대차 등 금융복합기업 감독 본격화..3년마다 위험평가 https://news.v.daum.net/v/20210624161440968\n",
      "'급식 몰아주기'에 사상 최대 과징금..삼성 \"행정소송할 것\" https://news.v.daum.net/v/20210624160716684\n",
      "금투협 채권포럼..\"통화정책 정상화 임박, 만기별 금리 차별화\" https://news.v.daum.net/v/20210624160022231\n",
      "재난지원금 소득하위 80%, 자영업자 지원 600만원 이상 유력 https://news.v.daum.net/v/20210624160147331\n"
     ]
    }
   ],
   "source": [
    "for tag in result:\n",
    "    print(tag.text.strip(), tag['href'].strip())"
   ]
  },
  {
   "cell_type": "code",
   "execution_count": null,
   "id": "35c8622f",
   "metadata": {},
   "outputs": [],
   "source": []
  }
 ],
 "metadata": {
  "kernelspec": {
   "display_name": "Python 3",
   "language": "python",
   "name": "python3"
  },
  "language_info": {
   "codemirror_mode": {
    "name": "ipython",
    "version": 3
   },
   "file_extension": ".py",
   "mimetype": "text/x-python",
   "name": "python",
   "nbconvert_exporter": "python",
   "pygments_lexer": "ipython3",
   "version": "3.8.8"
  }
 },
 "nbformat": 4,
 "nbformat_minor": 5
}
