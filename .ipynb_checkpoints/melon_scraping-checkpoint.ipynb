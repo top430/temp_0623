{
 "cells": [
  {
   "cell_type": "code",
   "execution_count": 1,
   "id": "2fc5c68e",
   "metadata": {},
   "outputs": [],
   "source": [
    "from selenium import webdriver"
   ]
  },
  {
   "cell_type": "code",
   "execution_count": 2,
   "id": "5cd20c45",
   "metadata": {},
   "outputs": [
    {
     "name": "stdout",
     "output_type": "stream",
     "text": [
      " C 드라이브의 볼륨에는 이름이 없습니다.\n",
      " 볼륨 일련 번호: 70A2-4266\n",
      "\n",
      " C:\\Develops 디렉터리\n",
      "\n",
      "2021-06-08  오후 08:07        11,107,328 chromedriver.exe\n",
      "               1개 파일          11,107,328 바이트\n",
      "               0개 디렉터리  786,204,852,224 바이트 남음\n"
     ]
    }
   ],
   "source": [
    "!dir .\\chromedriver.exe"
   ]
  },
  {
   "cell_type": "code",
   "execution_count": 10,
   "id": "266abc58",
   "metadata": {},
   "outputs": [],
   "source": [
    "browser = webdriver.Chrome('./chromedriver.exe')"
   ]
  },
  {
   "cell_type": "code",
   "execution_count": 11,
   "id": "3975e53f",
   "metadata": {},
   "outputs": [],
   "source": [
    "browser.get('https://www.melon.com/chart/index.htm')"
   ]
  },
  {
   "cell_type": "code",
   "execution_count": 13,
   "id": "236d627b",
   "metadata": {},
   "outputs": [],
   "source": [
    "html = browser.page_source"
   ]
  },
  {
   "cell_type": "code",
   "execution_count": 14,
   "id": "35ce40b5",
   "metadata": {},
   "outputs": [],
   "source": [
    "from bs4 import BeautifulSoup"
   ]
  },
  {
   "cell_type": "code",
   "execution_count": 15,
   "id": "94ef10ad",
   "metadata": {},
   "outputs": [],
   "source": [
    "soup = BeautifulSoup(html, 'html.parser')"
   ]
  },
  {
   "cell_type": "code",
   "execution_count": 20,
   "id": "4de18080",
   "metadata": {},
   "outputs": [],
   "source": [
    "tags = soup.select('span > a')"
   ]
  },
  {
   "cell_type": "code",
   "execution_count": 21,
   "id": "9ad01ace",
   "metadata": {},
   "outputs": [
    {
     "data": {
      "text/plain": [
       "(211, bs4.element.ResultSet)"
      ]
     },
     "execution_count": 21,
     "metadata": {},
     "output_type": "execute_result"
    }
   ],
   "source": [
    "len(tags), type(tags)"
   ]
  },
  {
   "cell_type": "code",
   "execution_count": 22,
   "id": "c1d47ded",
   "metadata": {},
   "outputs": [
    {
     "data": {
      "text/plain": [
       "<a href=\"javascript:melon.play.playSong('19030101',33487342);\" title=\"Next Level 재생\">Next Level</a>"
      ]
     },
     "execution_count": 22,
     "metadata": {},
     "output_type": "execute_result"
    }
   ],
   "source": [
    "tag = tags[0]\n",
    "tag"
   ]
  },
  {
   "cell_type": "code",
   "execution_count": null,
   "id": "d459f0b0",
   "metadata": {},
   "outputs": [],
   "source": [
    "tag."
   ]
  }
 ],
 "metadata": {
  "kernelspec": {
   "display_name": "Python 3",
   "language": "python",
   "name": "python3"
  },
  "language_info": {
   "codemirror_mode": {
    "name": "ipython",
    "version": 3
   },
   "file_extension": ".py",
   "mimetype": "text/x-python",
   "name": "python",
   "nbconvert_exporter": "python",
   "pygments_lexer": "ipython3",
   "version": "3.8.8"
  }
 },
 "nbformat": 4,
 "nbformat_minor": 5
}
