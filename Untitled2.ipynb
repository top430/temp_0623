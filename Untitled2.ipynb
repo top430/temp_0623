{
 "cells": [
  {
   "cell_type": "code",
   "execution_count": 1,
   "id": "ca9c5b52",
   "metadata": {},
   "outputs": [
    {
     "name": "stdout",
     "output_type": "stream",
     "text": [
      " C 드라이브의 볼륨에는 이름이 없습니다.\n",
      " 볼륨 일련 번호: 70A2-4266\n",
      "\n",
      " C:\\Develops\\files 디렉터리\n",
      "\n",
      "2021-06-23  오후 01:41             8,311 sample_1.xlsx\n",
      "               1개 파일               8,311 바이트\n",
      "               0개 디렉터리  789,512,351,744 바이트 남음\n"
     ]
    }
   ],
   "source": [
    "!dir .\\files\\sample_1.xlsx"
   ]
  },
  {
   "cell_type": "code",
   "execution_count": 2,
   "id": "6c29f7c0",
   "metadata": {},
   "outputs": [],
   "source": [
    "import pandas as pd"
   ]
  },
  {
   "cell_type": "code",
   "execution_count": 4,
   "id": "367fb32c",
   "metadata": {},
   "outputs": [],
   "source": [
    "sample1 = pd.read_excel('./files/sample_1.xlsx')"
   ]
  },
  {
   "cell_type": "code",
   "execution_count": 6,
   "id": "18d7cc0a",
   "metadata": {},
   "outputs": [],
   "source": [
    "sample1.to_excel('./saves/my_1.xlsx')"
   ]
  },
  {
   "cell_type": "code",
   "execution_count": null,
   "id": "48bcbf79",
   "metadata": {},
   "outputs": [],
   "source": []
  }
 ],
 "metadata": {
  "kernelspec": {
   "display_name": "Python 3",
   "language": "python",
   "name": "python3"
  },
  "language_info": {
   "codemirror_mode": {
    "name": "ipython",
    "version": 3
   },
   "file_extension": ".py",
   "mimetype": "text/x-python",
   "name": "python",
   "nbconvert_exporter": "python",
   "pygments_lexer": "ipython3",
   "version": "3.8.8"
  }
 },
 "nbformat": 4,
 "nbformat_minor": 5
}
