{
 "cells": [
  {
   "cell_type": "markdown",
   "id": "d95ce75a",
   "metadata": {},
   "source": [
    "'.' : class\n",
    "'#' : id\n",
    "'>' : 하위"
   ]
  },
  {
   "cell_type": "code",
   "execution_count": 2,
   "id": "4221606f",
   "metadata": {},
   "outputs": [],
   "source": [
    "from bs4 import BeautifulSoup"
   ]
  },
  {
   "cell_type": "code",
   "execution_count": 3,
   "id": "c8c47e35",
   "metadata": {},
   "outputs": [],
   "source": [
    "html = '''\n",
    "<html>\n",
    "    <head>\n",
    "    </head>\n",
    "    <body>\n",
    "        <h1> 우리동네시장</h1>\n",
    "            <div class = 'sale'>\n",
    "                <p id='fruits1' class='fruits'>\n",
    "                    <span class = 'name'> 바나나 </span>\n",
    "                    <span class = 'price'> 3000원 </span>\n",
    "                    <span class = 'inventory'> 500개 </span>\n",
    "                    <span class = 'store'> 가나다상회 </span>\n",
    "                    <a href = 'http://bit.ly/forPlaywithData' > 홈페이지 </a>\n",
    "                </p>\n",
    "            </div>\n",
    "            <div class = 'prepare'>\n",
    "                <p id='fruits2' class='fruits'>\n",
    "                    <span class ='name'> 파인애플 </span>\n",
    "                </p>\n",
    "            </div>\n",
    "    </body>\n",
    "</html>\n",
    "'''"
   ]
  },
  {
   "cell_type": "code",
   "execution_count": 9,
   "id": "16689cce",
   "metadata": {},
   "outputs": [],
   "source": [
    "soup = BeautifulSoup(html, 'html.parser')"
   ]
  },
  {
   "cell_type": "code",
   "execution_count": 17,
   "id": "a78d2923",
   "metadata": {},
   "outputs": [],
   "source": [
    "span = soup.select('span')"
   ]
  },
  {
   "cell_type": "code",
   "execution_count": 19,
   "id": "05d9539c",
   "metadata": {},
   "outputs": [
    {
     "data": {
      "text/plain": [
       "(bs4.element.ResultSet,\n",
       " [<span class=\"name\"> 바나나 </span>,\n",
       "  <span class=\"price\"> 3000원 </span>,\n",
       "  <span class=\"inventory\"> 500개 </span>,\n",
       "  <span class=\"store\"> 가나다상회 </span>,\n",
       "  <span class=\"name\"> 파인애플 </span>])"
      ]
     },
     "execution_count": 19,
     "metadata": {},
     "output_type": "execute_result"
    }
   ],
   "source": [
    "type(span), span"
   ]
  },
  {
   "cell_type": "code",
   "execution_count": 28,
   "id": "f9534e88",
   "metadata": {},
   "outputs": [
    {
     "data": {
      "text/plain": [
       "<span class=\"name\"> 파인애플 </span>"
      ]
     },
     "execution_count": 28,
     "metadata": {},
     "output_type": "execute_result"
    }
   ],
   "source": [
    "span[-1]"
   ]
  },
  {
   "cell_type": "code",
   "execution_count": 30,
   "id": "e949238a",
   "metadata": {},
   "outputs": [
    {
     "name": "stdout",
     "output_type": "stream",
     "text": [
      "<span class=\"name\"> 바나나 </span>\n",
      "<span class=\"price\"> 3000원 </span>\n",
      "<span class=\"inventory\"> 500개 </span>\n",
      "<span class=\"store\"> 가나다상회 </span>\n",
      "<span class=\"name\"> 파인애플 </span>\n"
     ]
    }
   ],
   "source": [
    "for i in range(5):\n",
    "    print(span[i])"
   ]
  },
  {
   "cell_type": "code",
   "execution_count": 38,
   "id": "33773f2f",
   "metadata": {},
   "outputs": [],
   "source": [
    "soup = BeautifulSoup(html, 'html.parser')"
   ]
  },
  {
   "cell_type": "code",
   "execution_count": 51,
   "id": "13e587ce",
   "metadata": {},
   "outputs": [],
   "source": [
    "fruits = soup.select('#fruits1')"
   ]
  },
  {
   "cell_type": "code",
   "execution_count": 52,
   "id": "911a96a3",
   "metadata": {},
   "outputs": [
    {
     "data": {
      "text/plain": [
       "(bs4.element.ResultSet, 1)"
      ]
     },
     "execution_count": 52,
     "metadata": {},
     "output_type": "execute_result"
    }
   ],
   "source": [
    "type(fruits), len(fruits)"
   ]
  },
  {
   "cell_type": "code",
   "execution_count": 49,
   "id": "012916ee",
   "metadata": {},
   "outputs": [],
   "source": [
    "p = soup.select('p')"
   ]
  },
  {
   "cell_type": "code",
   "execution_count": 50,
   "id": "fb9b076b",
   "metadata": {},
   "outputs": [
    {
     "data": {
      "text/plain": [
       "[<p class=\"fruits\" id=\"fruits1\">\n",
       " <span class=\"name\"> 바나나 </span>\n",
       " <span class=\"price\"> 3000원 </span>\n",
       " <span class=\"inventory\"> 500개 </span>\n",
       " <span class=\"store\"> 가나다상회 </span>\n",
       " <a href=\"http://bit.ly/forPlaywithData\"> 홈페이지 </a>\n",
       " </p>,\n",
       " <p class=\"fruits\" id=\"fruits2\">\n",
       " <span class=\"name\"> 파인애플 </span>\n",
       " </p>]"
      ]
     },
     "execution_count": 50,
     "metadata": {},
     "output_type": "execute_result"
    }
   ],
   "source": [
    "p"
   ]
  },
  {
   "cell_type": "code",
   "execution_count": 53,
   "id": "45870d62",
   "metadata": {},
   "outputs": [],
   "source": [
    "result = soup.select('.inventory')"
   ]
  },
  {
   "cell_type": "code",
   "execution_count": 54,
   "id": "4fecfbc8",
   "metadata": {},
   "outputs": [
    {
     "data": {
      "text/plain": [
       "(bs4.element.ResultSet, [<span class=\"inventory\"> 500개 </span>])"
      ]
     },
     "execution_count": 54,
     "metadata": {},
     "output_type": "execute_result"
    }
   ],
   "source": [
    "type(result), result"
   ]
  },
  {
   "cell_type": "code",
   "execution_count": 55,
   "id": "ba6781c1",
   "metadata": {},
   "outputs": [
    {
     "data": {
      "text/plain": [
       "1"
      ]
     },
     "execution_count": 55,
     "metadata": {},
     "output_type": "execute_result"
    }
   ],
   "source": [
    "len(result)"
   ]
  },
  {
   "cell_type": "code",
   "execution_count": 56,
   "id": "90854147",
   "metadata": {},
   "outputs": [],
   "source": [
    "result2 = soup.select('span.price')"
   ]
  },
  {
   "cell_type": "code",
   "execution_count": 57,
   "id": "ddc7c21d",
   "metadata": {},
   "outputs": [
    {
     "data": {
      "text/plain": [
       "[<span class=\"price\"> 3000원 </span>]"
      ]
     },
     "execution_count": 57,
     "metadata": {},
     "output_type": "execute_result"
    }
   ],
   "source": [
    "result2"
   ]
  },
  {
   "cell_type": "code",
   "execution_count": 58,
   "id": "e83080cb",
   "metadata": {},
   "outputs": [],
   "source": [
    "result3 = soup.select('p#fruits1 > span.name')"
   ]
  },
  {
   "cell_type": "code",
   "execution_count": 59,
   "id": "30f82c0e",
   "metadata": {},
   "outputs": [
    {
     "data": {
      "text/plain": [
       "[<span class=\"name\"> 바나나 </span>]"
      ]
     },
     "execution_count": 59,
     "metadata": {},
     "output_type": "execute_result"
    }
   ],
   "source": [
    "result3"
   ]
  },
  {
   "cell_type": "code",
   "execution_count": 63,
   "id": "c88f10f3",
   "metadata": {},
   "outputs": [
    {
     "data": {
      "text/plain": [
       "[<span class=\"price\"> 3000원 </span>]"
      ]
     },
     "execution_count": 63,
     "metadata": {},
     "output_type": "execute_result"
    }
   ],
   "source": [
    "result4 = soup.select('div.sale > p > .price')\n",
    "result4"
   ]
  },
  {
   "cell_type": "code",
   "execution_count": 64,
   "id": "712b2030",
   "metadata": {},
   "outputs": [],
   "source": [
    "result5 = soup.select('.name')"
   ]
  },
  {
   "cell_type": "code",
   "execution_count": 69,
   "id": "27ef359d",
   "metadata": {},
   "outputs": [
    {
     "name": "stdout",
     "output_type": "stream",
     "text": [
      "2\n",
      "<span class=\"name\"> 바나나 </span>\n",
      "<span class=\"name\"> 파인애플 </span>\n"
     ]
    }
   ],
   "source": [
    "print(len(result5))\n",
    "\n",
    "for tag in result5:\n",
    "    print(tag)"
   ]
  },
  {
   "cell_type": "code",
   "execution_count": 74,
   "id": "1183ca71",
   "metadata": {},
   "outputs": [
    {
     "data": {
      "text/plain": [
       "'파인애플'"
      ]
     },
     "execution_count": 74,
     "metadata": {},
     "output_type": "execute_result"
    }
   ],
   "source": [
    "str1 = result5[1].text\n",
    "str1.strip()"
   ]
  },
  {
   "cell_type": "code",
   "execution_count": 75,
   "id": "01562923",
   "metadata": {},
   "outputs": [
    {
     "data": {
      "text/plain": [
       "'파인애플'"
      ]
     },
     "execution_count": 75,
     "metadata": {},
     "output_type": "execute_result"
    }
   ],
   "source": [
    "result5[1].text.strip()"
   ]
  },
  {
   "cell_type": "code",
   "execution_count": 78,
   "id": "3b659b25",
   "metadata": {},
   "outputs": [
    {
     "data": {
      "text/plain": [
       "' 파'"
      ]
     },
     "execution_count": 78,
     "metadata": {},
     "output_type": "execute_result"
    }
   ],
   "source": [
    "str1[0:2]"
   ]
  },
  {
   "cell_type": "code",
   "execution_count": null,
   "id": "b707c049",
   "metadata": {},
   "outputs": [],
   "source": []
  },
  {
   "cell_type": "code",
   "execution_count": null,
   "id": "4b2d15ae",
   "metadata": {},
   "outputs": [],
   "source": []
  }
 ],
 "metadata": {
  "kernelspec": {
   "display_name": "Python 3",
   "language": "python",
   "name": "python3"
  },
  "language_info": {
   "codemirror_mode": {
    "name": "ipython",
    "version": 3
   },
   "file_extension": ".py",
   "mimetype": "text/x-python",
   "name": "python",
   "nbconvert_exporter": "python",
   "pygments_lexer": "ipython3",
   "version": "3.8.8"
  }
 },
 "nbformat": 4,
 "nbformat_minor": 5
}
