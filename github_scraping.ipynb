{
 "cells": [
  {
   "cell_type": "code",
   "execution_count": 1,
   "id": "d60b66ce",
   "metadata": {},
   "outputs": [],
   "source": [
    "from selenium import webdriver"
   ]
  },
  {
   "cell_type": "code",
   "execution_count": 7,
   "id": "c97ee9cd",
   "metadata": {},
   "outputs": [],
   "source": [
    "browser = webdriver.Chrome('./chromedriver.exe')"
   ]
  },
  {
   "cell_type": "code",
   "execution_count": 8,
   "id": "e2d29fcd",
   "metadata": {},
   "outputs": [],
   "source": [
    "browser.get('https://github.com/login')"
   ]
  },
  {
   "cell_type": "code",
   "execution_count": 9,
   "id": "86cd27c0",
   "metadata": {},
   "outputs": [],
   "source": [
    "browser.find_elements_by_css_selector('input#login_field')[0].send_keys('kimqudgus@gmail.com')\n",
    "browser.find_elements_by_css_selector('input#login_field')[0].send_keys('ab0749ab')\n",
    "browser.find_elements_by_css_selector('input[type=\"submit\"]')[0].click()"
   ]
  },
  {
   "cell_type": "code",
   "execution_count": 10,
   "id": "0078b031",
   "metadata": {},
   "outputs": [],
   "source": [
    "browser.get('https://github.com/top430/temp_0623')"
   ]
  },
  {
   "cell_type": "code",
   "execution_count": 11,
   "id": "421644b3",
   "metadata": {},
   "outputs": [],
   "source": [
    "from bs4 import BeautifulSoup"
   ]
  },
  {
   "cell_type": "code",
   "execution_count": 12,
   "id": "963eac49",
   "metadata": {},
   "outputs": [],
   "source": [
    "html = BeautifulSoup(browser.page_source, 'html.parser')"
   ]
  },
  {
   "cell_type": "code",
   "execution_count": 13,
   "id": "0c783bd4",
   "metadata": {},
   "outputs": [
    {
     "data": {
      "text/plain": [
       "(bs4.element.ResultSet, 3)"
      ]
     },
     "execution_count": 13,
     "metadata": {},
     "output_type": "execute_result"
    }
   ],
   "source": [
    "tags = html.select('div[role=\"row\"].Box-row')\n",
    "type(tags), len(tags)"
   ]
  },
  {
   "cell_type": "code",
   "execution_count": null,
   "id": "fe3be30b",
   "metadata": {},
   "outputs": [],
   "source": []
  }
 ],
 "metadata": {
  "kernelspec": {
   "display_name": "Python 3",
   "language": "python",
   "name": "python3"
  },
  "language_info": {
   "codemirror_mode": {
    "name": "ipython",
    "version": 3
   },
   "file_extension": ".py",
   "mimetype": "text/x-python",
   "name": "python",
   "nbconvert_exporter": "python",
   "pygments_lexer": "ipython3",
   "version": "3.8.8"
  }
 },
 "nbformat": 4,
 "nbformat_minor": 5
}
