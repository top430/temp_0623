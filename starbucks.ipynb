{
 "cells": [
  {
   "cell_type": "code",
   "execution_count": 1,
   "id": "39cc761e",
   "metadata": {},
   "outputs": [],
   "source": [
    "from selenium import webdriver"
   ]
  },
  {
   "cell_type": "code",
   "execution_count": 2,
   "id": "4321a1d2",
   "metadata": {},
   "outputs": [],
   "source": [
    "browser = webdriver.Chrome('./chromedriver.exe')"
   ]
  },
  {
   "cell_type": "code",
   "execution_count": 3,
   "id": "39dacb46",
   "metadata": {},
   "outputs": [],
   "source": [
    "browser.get('https://www.starbucks.co.kr/store/store_map.do?disp=locale')"
   ]
  },
  {
   "cell_type": "code",
   "execution_count": 4,
   "id": "76d81277",
   "metadata": {},
   "outputs": [],
   "source": [
    "import time\n",
    "time.sleep(3)\n",
    "browser.find_element_by_css_selector('ul.sido_arae_box > li > a[data-sidocd=\"01\"]').click()"
   ]
  },
  {
   "cell_type": "code",
   "execution_count": null,
   "id": "0f56b7ed",
   "metadata": {},
   "outputs": [],
   "source": [
    "time.sleep(3)\n",
    "browser.find_element_by_css_selector('').click()"
   ]
  }
 ],
 "metadata": {
  "kernelspec": {
   "display_name": "Python 3",
   "language": "python",
   "name": "python3"
  },
  "language_info": {
   "codemirror_mode": {
    "name": "ipython",
    "version": 3
   },
   "file_extension": ".py",
   "mimetype": "text/x-python",
   "name": "python",
   "nbconvert_exporter": "python",
   "pygments_lexer": "ipython3",
   "version": "3.8.8"
  }
 },
 "nbformat": 4,
 "nbformat_minor": 5
}
