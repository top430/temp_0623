{
 "cells": [
  {
   "cell_type": "code",
   "execution_count": 1,
   "id": "76106cc5",
   "metadata": {},
   "outputs": [],
   "source": [
    "from selenium import webdriver"
   ]
  },
  {
   "cell_type": "code",
   "execution_count": 2,
   "id": "07238a5f",
   "metadata": {},
   "outputs": [],
   "source": [
    "browser = webdriver.Chrome('./chromedriver.exe')"
   ]
  },
  {
   "cell_type": "code",
   "execution_count": 3,
   "id": "31ea5f5a",
   "metadata": {},
   "outputs": [],
   "source": [
    "browser.get('https://shopping.naver.com/')"
   ]
  },
  {
   "cell_type": "code",
   "execution_count": 4,
   "id": "b5cb7abe",
   "metadata": {},
   "outputs": [],
   "source": [
    "html = browser.page_source"
   ]
  },
  {
   "cell_type": "code",
   "execution_count": 7,
   "id": "1f6d6bd3",
   "metadata": {},
   "outputs": [],
   "source": [
    "from bs4 import BeautifulSoup\n",
    "soup = BeautifulSoup(html, 'html.parser')"
   ]
  },
  {
   "cell_type": "code",
   "execution_count": 8,
   "id": "3a388e1a",
   "metadata": {},
   "outputs": [],
   "source": [
    "contents = soup.select('ul > a#homeTpl1Link137862')"
   ]
  },
  {
   "cell_type": "code",
   "execution_count": 14,
   "id": "247a75b2",
   "metadata": {},
   "outputs": [
    {
     "data": {
      "text/plain": [
       "<a class=\"img_area\" href=\"https://campaign.naver.com/collect/?target=https://campaign.naver.com/naverplus_mkt/family/&amp;code=Family_shop\" id=\"homeTpl1Link137862\"><img alt=\"월 이용료 최소 1225원으로 시작하기 네이버플러스 멤버십 윈 패밀리\" height=\"496\" id=\"homeTpl1Img137862\" src=\"https://ssl.pstatic.net/imgshopping/cnsv/iu/home/21/0625/jpbyavb9r6h.jpg\" width=\"308\"/></a>"
      ]
     },
     "execution_count": 14,
     "metadata": {},
     "output_type": "execute_result"
    }
   ],
   "source": [
    "contents[0]"
   ]
  },
  {
   "cell_type": "code",
   "execution_count": null,
   "id": "eb32c57f",
   "metadata": {},
   "outputs": [],
   "source": []
  }
 ],
 "metadata": {
  "kernelspec": {
   "display_name": "Python 3",
   "language": "python",
   "name": "python3"
  },
  "language_info": {
   "codemirror_mode": {
    "name": "ipython",
    "version": 3
   },
   "file_extension": ".py",
   "mimetype": "text/x-python",
   "name": "python",
   "nbconvert_exporter": "python",
   "pygments_lexer": "ipython3",
   "version": "3.8.8"
  }
 },
 "nbformat": 4,
 "nbformat_minor": 5
}
